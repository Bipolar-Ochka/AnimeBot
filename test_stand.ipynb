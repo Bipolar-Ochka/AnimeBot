{
  "nbformat": 4,
  "nbformat_minor": 0,
  "metadata": {
    "colab": {
      "provenance": [],
      "collapsed_sections": [
        "kiU24mKYybXM",
        "Dpbrv51t0KE9",
        "HReHsSO61Xue",
        "fV20kWHF2kOH"
      ],
      "toc_visible": true,
      "authorship_tag": "ABX9TyO0ainRYMTMKjSr0pUf8HlP",
      "include_colab_link": true
    },
    "kernelspec": {
      "name": "python3",
      "display_name": "Python 3"
    },
    "language_info": {
      "name": "python"
    }
  },
  "cells": [
    {
      "cell_type": "markdown",
      "metadata": {
        "id": "view-in-github",
        "colab_type": "text"
      },
      "source": [
        "<a href=\"https://colab.research.google.com/github/Bipolar-Ochka/AnimeBot/blob/master/test_stand.ipynb\" target=\"_parent\"><img src=\"https://colab.research.google.com/assets/colab-badge.svg\" alt=\"Open In Colab\"/></a>"
      ]
    },
    {
      "cell_type": "markdown",
      "source": [
        "# 1. Импорты\n"
      ],
      "metadata": {
        "id": "i8Exv6jLxxQJ"
      }
    },
    {
      "cell_type": "code",
      "source": [
        "import numpy as np\n",
        "from scipy.linalg import hadamard\n"
      ],
      "metadata": {
        "id": "_22ebzfmx8pQ"
      },
      "execution_count": 1,
      "outputs": []
    },
    {
      "cell_type": "markdown",
      "source": [
        "\n",
        "\n",
        "---\n",
        "\n"
      ],
      "metadata": {
        "id": "s5n1MRkJzkPN"
      }
    },
    {
      "cell_type": "markdown",
      "source": [
        "# 2. Вспомогательные функции"
      ],
      "metadata": {
        "id": "P5Ky9HRHyRFl"
      }
    },
    {
      "cell_type": "markdown",
      "source": [
        "## 2.1. Текст в выбранной кодировке -> массив выбранного типа"
      ],
      "metadata": {
        "id": "kiU24mKYybXM"
      }
    },
    {
      "cell_type": "markdown",
      "source": [
        "По умолчанию: кодировка - **windows-1251**, тип выходных переменных - **bool**. Последнее для удобства маскирования матрицы преобразования."
      ],
      "metadata": {
        "id": "otFIeeBvzY9X"
      }
    },
    {
      "cell_type": "code",
      "source": [
        "def text2bin(text, encoding = 'windows-1251'):\n",
        "    res = []\n",
        "    for num in text.encode(encoding):\n",
        "        res.extend(i for i in map(int, '{:08b}'.format(num)))\n",
        "    \n",
        "    return res\n",
        "\n",
        "def gettextarray(text, encoding = 'windows-1251', type = 'bool'):\n",
        "    result = np.array(text2bin(text, encoding), dtype=type)\n",
        "    return (result, result.shape[0])"
      ],
      "metadata": {
        "id": "tTXBC0TCyaZQ"
      },
      "execution_count": null,
      "outputs": []
    },
    {
      "cell_type": "markdown",
      "source": [
        "## 2.2. Битовые операции для разных нумераций матрицы преобразования"
      ],
      "metadata": {
        "id": "Dpbrv51t0KE9"
      }
    },
    {
      "cell_type": "code",
      "source": [
        "#число -> код грея\n",
        "def b2gr(n):\n",
        "    return n ^ (n >> 1)\n",
        "\n",
        "#код грея -> число\n",
        "def gr2b(n):\n",
        "    temp = n\n",
        "    n >>= 1\n",
        "    while n != 0:\n",
        "        temp ^= n\n",
        "        n >>= 1\n",
        "        \n",
        "    return temp\n",
        "\n",
        "#биты в обратном порядке\n",
        "def reverse(n, bits):\n",
        "    b = format(n, 'b')\n",
        "    b = b.rjust(bits, '0')\n",
        "    return int(b[::-1],2)\n",
        "\n",
        "#нумерация по адамару -> по уолшу\n",
        "def had2wal(val, bits):\n",
        "    r = reverse(val, bits)\n",
        "    return gr2b(r)\n",
        "\n",
        "#нумерация по уолшу -> по пэли\n",
        "def wal2pal(val):\n",
        "    return b2gr(val)"
      ],
      "metadata": {
        "id": "whXNcv9c02nk"
      },
      "execution_count": null,
      "outputs": []
    },
    {
      "cell_type": "markdown",
      "source": [
        "## 2.3. Вычисление матрицы преобразования заданного размера"
      ],
      "metadata": {
        "id": "HReHsSO61Xue"
      }
    },
    {
      "cell_type": "markdown",
      "source": [
        "Использовать функцию - get_ort_matrix. Первый параметр - длина массива битов кодируемого сообщения, второй - тип нумерации: 'had' - по Адамару, 'wal'  - по Уолшу, остальное - по Пэли. Возвращает матрицу ортогонального преобразования размера $⌈\\log_2 N⌉$"
      ],
      "metadata": {
        "id": "pblmw7Wl1ofK"
      }
    },
    {
      "cell_type": "code",
      "source": [
        "def get_hadamar(size):\n",
        "    return hadamard(size)\n",
        "\n",
        "def get_walsh(size):\n",
        "    bits = int(np.log2(size))\n",
        "    had_mat = get_hadamar(size)\n",
        "    map_wal = {i:had2wal(i, bits) for i in range(size)}\n",
        "    w = np.zeros((size,size))\n",
        "    for had, wal in map_wal.items():\n",
        "        w[wal] = had_mat[had]\n",
        "    return w\n",
        "\n",
        "def get_paley(size):\n",
        "    walsh = get_walsh(size)\n",
        "    map_pal = {i:wal2pal(i) for i in range(size)}\n",
        "    p = np.zeros((size,size))\n",
        "    for wal, pal in map_pal.items():\n",
        "        p[pal] = walsh[wal]\n",
        "    return p\n",
        "\n",
        "def get_ort_matrix(msg_len, type='pal'):\n",
        "    size = np.ceil(np.log2(msg_len))\n",
        "    total_size = int(2**size)\n",
        "\n",
        "    if type == 'had':\n",
        "        return (total_size, get_hadamar(total_size))\n",
        "    elif type == 'wal':\n",
        "        return (total_size, get_walsh(total_size))\n",
        "    else:\n",
        "        return (total_size, get_paley(total_size))"
      ],
      "metadata": {
        "id": "I7thoQxc1kRp"
      },
      "execution_count": null,
      "outputs": []
    },
    {
      "cell_type": "markdown",
      "source": [
        "## 2.4. Задание соответствия i-му биту массива сообщений -> строки матрицы преобразования"
      ],
      "metadata": {
        "id": "fV20kWHF2kOH"
      }
    },
    {
      "cell_type": "markdown",
      "source": [
        "Вход - длина массива битов сообщения. По умолчанию - i-ый бит сообщения соответствует i-ой строке матрицы преобразования"
      ],
      "metadata": {
        "id": "VMGRLWCr4msY"
      }
    },
    {
      "cell_type": "code",
      "source": [
        "def get_default_map(msg_len):\n",
        "    return np.array([i for i in range(msg_len)], dtype='int')"
      ],
      "metadata": {
        "id": "EaJX8XLc4vwW"
      },
      "execution_count": null,
      "outputs": []
    },
    {
      "cell_type": "markdown",
      "source": [
        "## 2.5. Вычисление суммарного сигнала соответствующего массиву битов сообщения"
      ],
      "metadata": {
        "id": "43SZI7Hr5KUm"
      }
    },
    {
      "cell_type": "markdown",
      "source": [
        "Использовать - get_sum_function_for_message. Параметры - полная матрица преобразования, массив битов, соответствие из [2.4.](https://colab.research.google.com/drive/1i-hgvaiHeT_Z5MM7c-SuDrc3TxKRR-c2#scrollTo=fV20kWHF2kOH&line=1&uniqifier=1), сдвиг по строкам, сдвиг по столбцам"
      ],
      "metadata": {
        "id": "3HABm-pN5iUF"
      }
    },
    {
      "cell_type": "code",
      "source": [
        "def get_walsh_part(arr, msg_len, offset_fun = 0, offset_elem = 0):\n",
        "    np_arr = np.array(arr, dtype='int')\n",
        "    \n",
        "    if(np_arr.ndim != 2):\n",
        "        raise ValueError('Not 2 dim matrix')\n",
        "\n",
        "    if(np_arr.shape[0] < msg_len):\n",
        "        raise ValueError('Not enough functions or function elements')\n",
        "\n",
        "    return arr[offset_fun : msg_len+offset_fun, offset_elem : msg_len + offset_elem]\n",
        "\n",
        "def get_mapped_walsh(part_walsh, mapping):\n",
        "    if(part_walsh.shape[0] < len(mapping)):\n",
        "        raise ValueError('Matrix have lesser function than requested')\n",
        "    return np.take(part_walsh, mapping, axis=0)\n",
        "\n",
        "def get_walsh_masked_for_message(w_matrix, msg_bits, w_fun_mapping , offset_fun = 0, offset_elem = 0):\n",
        "    msg_len = len(msg_bits)\n",
        "    full_part_matrix = get_walsh_part(w_matrix, msg_len, offset_fun, offset_elem)\n",
        "    part_matrix = get_mapped_walsh(full_part_matrix, w_fun_mapping)\n",
        "    mask = np.array(msg_bits, dtype='bool')\n",
        "    return full_part_matrix, part_matrix[mask, :]\n",
        "\n",
        "def get_sum_function_for_message(w_matrix, msg_bits, w_fun_mapping , offset_fun = 0, offset_elem = 0):\n",
        "    full_part_matrix, mtrx = get_walsh_masked_for_message(w_matrix, msg_bits, w_fun_mapping , offset_fun, offset_elem)\n",
        "    return (full_part_matrix, np.sum(mtrx, axis=0))"
      ],
      "metadata": {
        "id": "4mGseFtu5eS0"
      },
      "execution_count": null,
      "outputs": []
    },
    {
      "cell_type": "markdown",
      "source": [
        "## 2.6. Суммарный сигнал -> Массив битов сообщения"
      ],
      "metadata": {
        "id": "eBvW-SU66-4m"
      }
    },
    {
      "cell_type": "code",
      "source": [
        "def decode_sum_fun(part_matrix, sum_fun):\n",
        "    return np.matmul(part_matrix, sum_fun) / part_matrix.shape[1]"
      ],
      "metadata": {
        "id": "Cm5Cxoio7Iom"
      },
      "execution_count": null,
      "outputs": []
    }
  ]
}